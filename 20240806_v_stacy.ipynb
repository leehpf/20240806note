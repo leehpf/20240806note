{
  "nbformat": 4,
  "nbformat_minor": 0,
  "metadata": {
    "colab": {
      "provenance": [],
      "toc_visible": true,
      "authorship_tag": "ABX9TyPh7nDJSNtQ+zaZhhp2Q5PA",
      "include_colab_link": true
    },
    "kernelspec": {
      "name": "python3",
      "display_name": "Python 3"
    },
    "language_info": {
      "name": "python"
    }
  },
  "cells": [
    {
      "cell_type": "markdown",
      "metadata": {
        "id": "view-in-github",
        "colab_type": "text"
      },
      "source": [
        "<a href=\"https://colab.research.google.com/github/leehpf/20240806note/blob/main/20240806_v_stacy.ipynb\" target=\"_parent\"><img src=\"https://colab.research.google.com/assets/colab-badge.svg\" alt=\"Open In Colab\"/></a>"
      ]
    },
    {
      "cell_type": "code",
      "execution_count": null,
      "metadata": {
        "id": "9lsCqekuxErf"
      },
      "outputs": [],
      "source": []
    },
    {
      "cell_type": "markdown",
      "source": [
        "# 20240806note"
      ],
      "metadata": {
        "id": "9dKaWrfXzjhN"
      }
    },
    {
      "cell_type": "markdown",
      "source": [
        "## Python變數命名\n",
        "\n",
        "* 開頭字元必須為英文字母或底線_\n",
        "* 除開頭字元外，可用數字\n",
        "* 變數有大小寫之分"
      ],
      "metadata": {
        "id": "6c9RgM5Xzy8Z"
      }
    },
    {
      "cell_type": "code",
      "source": [
        "x=1"
      ],
      "metadata": {
        "id": "r5kOZObh1A0G"
      },
      "execution_count": 1,
      "outputs": []
    },
    {
      "cell_type": "code",
      "source": [
        "X"
      ],
      "metadata": {
        "colab": {
          "base_uri": "https://localhost:8080/",
          "height": 141
        },
        "id": "IbSSWT4A1wG3",
        "outputId": "b0efc410-0da6-4aef-e13c-268f76c97597"
      },
      "execution_count": 2,
      "outputs": [
        {
          "output_type": "error",
          "ename": "NameError",
          "evalue": "name 'X' is not defined",
          "traceback": [
            "\u001b[0;31m---------------------------------------------------------------------------\u001b[0m",
            "\u001b[0;31mNameError\u001b[0m                                 Traceback (most recent call last)",
            "\u001b[0;32m<ipython-input-2-b5fec669aca1>\u001b[0m in \u001b[0;36m<cell line: 1>\u001b[0;34m()\u001b[0m\n\u001b[0;32m----> 1\u001b[0;31m \u001b[0mX\u001b[0m\u001b[0;34m\u001b[0m\u001b[0;34m\u001b[0m\u001b[0m\n\u001b[0m",
            "\u001b[0;31mNameError\u001b[0m: name 'X' is not defined"
          ]
        }
      ]
    },
    {
      "cell_type": "code",
      "source": [
        "123abc=1"
      ],
      "metadata": {
        "colab": {
          "base_uri": "https://localhost:8080/",
          "height": 106
        },
        "id": "PFNddGDh17x1",
        "outputId": "e203970d-75fe-4e33-9336-85387cab6825"
      },
      "execution_count": 3,
      "outputs": [
        {
          "output_type": "error",
          "ename": "SyntaxError",
          "evalue": "invalid decimal literal (<ipython-input-3-a11cc2131fdd>, line 1)",
          "traceback": [
            "\u001b[0;36m  File \u001b[0;32m\"<ipython-input-3-a11cc2131fdd>\"\u001b[0;36m, line \u001b[0;32m1\u001b[0m\n\u001b[0;31m    123abc=1\u001b[0m\n\u001b[0m      ^\u001b[0m\n\u001b[0;31mSyntaxError\u001b[0m\u001b[0;31m:\u001b[0m invalid decimal literal\n"
          ]
        }
      ]
    },
    {
      "cell_type": "code",
      "source": [
        "abc=1"
      ],
      "metadata": {
        "id": "N5wReMWrFJse"
      },
      "execution_count": 4,
      "outputs": []
    },
    {
      "cell_type": "markdown",
      "source": [
        "## 基本資料型態\n",
        "\n",
        "* int 整數\n",
        "* float 浮點數＝小數點\n",
        "* bool 布林值 true of false\n",
        "* str 字串\n"
      ],
      "metadata": {
        "id": "ZhEdvqfSGNr_"
      }
    },
    {
      "cell_type": "code",
      "source": [
        "type(x)"
      ],
      "metadata": {
        "colab": {
          "base_uri": "https://localhost:8080/"
        },
        "id": "1T3EPpb9HNKE",
        "outputId": "911ca363-9b38-413f-e17a-fc31094c4c0b"
      },
      "execution_count": 5,
      "outputs": [
        {
          "output_type": "execute_result",
          "data": {
            "text/plain": [
              "int"
            ]
          },
          "metadata": {},
          "execution_count": 5
        }
      ]
    },
    {
      "cell_type": "code",
      "source": [
        "x"
      ],
      "metadata": {
        "colab": {
          "base_uri": "https://localhost:8080/"
        },
        "id": "qxTc3OGjHgzj",
        "outputId": "af33818c-4558-424f-ef1c-8772bee51965"
      },
      "execution_count": 6,
      "outputs": [
        {
          "output_type": "execute_result",
          "data": {
            "text/plain": [
              "1"
            ]
          },
          "metadata": {},
          "execution_count": 6
        }
      ]
    },
    {
      "cell_type": "markdown",
      "source": [
        "## float"
      ],
      "metadata": {
        "id": "fb0k-eJlHn2p"
      }
    },
    {
      "cell_type": "code",
      "source": [
        "x=3.14"
      ],
      "metadata": {
        "id": "q_cvBiYIHmXQ"
      },
      "execution_count": 7,
      "outputs": []
    },
    {
      "cell_type": "markdown",
      "source": [],
      "metadata": {
        "id": "cZ9vOQkLHkFZ"
      }
    },
    {
      "cell_type": "code",
      "source": [
        "x"
      ],
      "metadata": {
        "colab": {
          "base_uri": "https://localhost:8080/"
        },
        "id": "Jy8ermyzHjrh",
        "outputId": "f5d6d104-dd50-418a-8192-d6e8c926591d"
      },
      "execution_count": 8,
      "outputs": [
        {
          "output_type": "execute_result",
          "data": {
            "text/plain": [
              "3.14"
            ]
          },
          "metadata": {},
          "execution_count": 8
        }
      ]
    },
    {
      "cell_type": "markdown",
      "source": [
        "## int v.s. float"
      ],
      "metadata": {
        "id": "CtuHx0DCIBwe"
      }
    },
    {
      "cell_type": "code",
      "source": [
        "m=4\n",
        "n=2\n",
        "type(m/n)"
      ],
      "metadata": {
        "colab": {
          "base_uri": "https://localhost:8080/"
        },
        "id": "D33yZdbGIIjl",
        "outputId": "c92247f0-be72-4c81-ee74-9f937d3e4ec3"
      },
      "execution_count": 9,
      "outputs": [
        {
          "output_type": "execute_result",
          "data": {
            "text/plain": [
              "float"
            ]
          },
          "metadata": {},
          "execution_count": 9
        }
      ]
    },
    {
      "cell_type": "code",
      "source": [
        "m=4\n",
        "n=2\n",
        "type(m//n)"
      ],
      "metadata": {
        "colab": {
          "base_uri": "https://localhost:8080/"
        },
        "id": "DfT8l1EFITGJ",
        "outputId": "7ea587c6-786b-4639-f1d6-b6862d55764b"
      },
      "execution_count": 10,
      "outputs": [
        {
          "output_type": "execute_result",
          "data": {
            "text/plain": [
              "int"
            ]
          },
          "metadata": {},
          "execution_count": 10
        }
      ]
    },
    {
      "cell_type": "markdown",
      "source": [
        "#整數除法 雙斜線 //"
      ],
      "metadata": {
        "id": "u-Jr6ITKIZak"
      }
    },
    {
      "cell_type": "markdown",
      "source": [
        "### bool"
      ],
      "metadata": {
        "id": "dPiVwF2tImm7"
      }
    },
    {
      "cell_type": "code",
      "source": [
        "m>n"
      ],
      "metadata": {
        "colab": {
          "base_uri": "https://localhost:8080/"
        },
        "id": "R9c4duZ-Iq1-",
        "outputId": "fa48a93f-df99-4f6e-cd65-4f362071e8e6"
      },
      "execution_count": 11,
      "outputs": [
        {
          "output_type": "execute_result",
          "data": {
            "text/plain": [
              "True"
            ]
          },
          "metadata": {},
          "execution_count": 11
        }
      ]
    },
    {
      "cell_type": "code",
      "source": [
        "n>m"
      ],
      "metadata": {
        "colab": {
          "base_uri": "https://localhost:8080/"
        },
        "id": "mXecvHFqIxp5",
        "outputId": "e03ec004-b6f2-4a34-b2a0-53ab499d9576"
      },
      "execution_count": 12,
      "outputs": [
        {
          "output_type": "execute_result",
          "data": {
            "text/plain": [
              "False"
            ]
          },
          "metadata": {},
          "execution_count": 12
        }
      ]
    },
    {
      "cell_type": "code",
      "source": [
        "k=m>n"
      ],
      "metadata": {
        "id": "x3aHm7ipI99T"
      },
      "execution_count": 13,
      "outputs": []
    },
    {
      "cell_type": "code",
      "source": [
        "type(k)"
      ],
      "metadata": {
        "colab": {
          "base_uri": "https://localhost:8080/"
        },
        "id": "OhEng4hjJICW",
        "outputId": "2e38721b-a051-4eb5-ee47-0e22602241c8"
      },
      "execution_count": 14,
      "outputs": [
        {
          "output_type": "execute_result",
          "data": {
            "text/plain": [
              "bool"
            ]
          },
          "metadata": {},
          "execution_count": 14
        }
      ]
    },
    {
      "cell_type": "code",
      "source": [
        "m==n"
      ],
      "metadata": {
        "colab": {
          "base_uri": "https://localhost:8080/"
        },
        "id": "pCHvisyHJinC",
        "outputId": "37ad09ee-ed19-4e9f-b523-514ee6b56b31"
      },
      "execution_count": 15,
      "outputs": [
        {
          "output_type": "execute_result",
          "data": {
            "text/plain": [
              "False"
            ]
          },
          "metadata": {},
          "execution_count": 15
        }
      ]
    },
    {
      "cell_type": "code",
      "source": [
        "p=m==n"
      ],
      "metadata": {
        "id": "9OqOkY42JvXq"
      },
      "execution_count": 16,
      "outputs": []
    },
    {
      "cell_type": "code",
      "source": [
        "p"
      ],
      "metadata": {
        "id": "t7rWlxQcJ9si",
        "outputId": "a3711701-c91f-4966-f193-4c254d554b78",
        "colab": {
          "base_uri": "https://localhost:8080/"
        }
      },
      "execution_count": 17,
      "outputs": [
        {
          "output_type": "execute_result",
          "data": {
            "text/plain": [
              "False"
            ]
          },
          "metadata": {},
          "execution_count": 17
        }
      ]
    }
  ]
}